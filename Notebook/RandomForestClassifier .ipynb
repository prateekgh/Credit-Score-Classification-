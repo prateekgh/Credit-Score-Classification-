{
 "cells": [
  {
   "cell_type": "code",
   "execution_count": 77,
   "id": "abc58a32",
   "metadata": {},
   "outputs": [],
   "source": [
    "import pandas as pd\n",
    "from sklearn.ensemble import RandomForestClassifier\n",
    "from sklearn.model_selection import train_test_split\n",
    "from sklearn.metrics import accuracy_score\n",
    "from sklearn.metrics import classification_report\n",
    "import seaborn as sns \n",
    "import matplotlib.pyplot as plt\n",
    "from sklearn.metrics import confusion_matrix"
   ]
  },
  {
   "cell_type": "code",
   "execution_count": 78,
   "id": "cecb64c8",
   "metadata": {},
   "outputs": [],
   "source": [
    "df = pd.read_csv('../cleaned_data/final_df.csv', index_col=0)\n",
    "pd.set_option('display.max_columns', None)\n"
   ]
  },
  {
   "cell_type": "code",
   "execution_count": 79,
   "id": "b6b4384e",
   "metadata": {},
   "outputs": [
    {
     "data": {
      "text/html": [
       "<div>\n",
       "<style scoped>\n",
       "    .dataframe tbody tr th:only-of-type {\n",
       "        vertical-align: middle;\n",
       "    }\n",
       "\n",
       "    .dataframe tbody tr th {\n",
       "        vertical-align: top;\n",
       "    }\n",
       "\n",
       "    .dataframe thead th {\n",
       "        text-align: right;\n",
       "    }\n",
       "</style>\n",
       "<table border=\"1\" class=\"dataframe\">\n",
       "  <thead>\n",
       "    <tr style=\"text-align: right;\">\n",
       "      <th></th>\n",
       "      <th>Month</th>\n",
       "      <th>Age</th>\n",
       "      <th>Occupation</th>\n",
       "      <th>Annual_Income</th>\n",
       "      <th>Num_Bank_Accounts</th>\n",
       "      <th>Num_Credit_Card</th>\n",
       "      <th>Interest_Rate</th>\n",
       "      <th>Num_of_Loan</th>\n",
       "      <th>Type_of_Loan</th>\n",
       "      <th>Delay_from_due_date</th>\n",
       "      <th>Num_of_Delayed_Payment</th>\n",
       "      <th>Changed_Credit_Limit</th>\n",
       "      <th>Num_Credit_Inquiries</th>\n",
       "      <th>Credit_Mix</th>\n",
       "      <th>Outstanding_Debt</th>\n",
       "      <th>Credit_Utilization_Ratio</th>\n",
       "      <th>Credit_History_Age</th>\n",
       "      <th>Payment_of_Min_Amount</th>\n",
       "      <th>Total_EMI_per_month</th>\n",
       "      <th>Amount_invested_monthly</th>\n",
       "      <th>Payment_Behaviour</th>\n",
       "      <th>Monthly_Balance</th>\n",
       "      <th>Credit_Score</th>\n",
       "    </tr>\n",
       "  </thead>\n",
       "  <tbody>\n",
       "    <tr>\n",
       "      <th>0</th>\n",
       "      <td>-1.533495</td>\n",
       "      <td>-0.932368</td>\n",
       "      <td>12</td>\n",
       "      <td>-0.796143</td>\n",
       "      <td>-0.979334</td>\n",
       "      <td>-0.787182</td>\n",
       "      <td>-1.376770</td>\n",
       "      <td>0.005316</td>\n",
       "      <td>128</td>\n",
       "      <td>-1.248565</td>\n",
       "      <td>-1.070927</td>\n",
       "      <td>0.077172</td>\n",
       "      <td>-0.538606</td>\n",
       "      <td>1</td>\n",
       "      <td>-0.590592</td>\n",
       "      <td>-1.054430</td>\n",
       "      <td>0.522998</td>\n",
       "      <td>1</td>\n",
       "      <td>-0.540759</td>\n",
       "      <td>-0.267683</td>\n",
       "      <td>2</td>\n",
       "      <td>0.010108</td>\n",
       "      <td>0</td>\n",
       "    </tr>\n",
       "    <tr>\n",
       "      <th>1</th>\n",
       "      <td>-0.659654</td>\n",
       "      <td>-0.932368</td>\n",
       "      <td>12</td>\n",
       "      <td>-0.796143</td>\n",
       "      <td>-0.979334</td>\n",
       "      <td>-0.787182</td>\n",
       "      <td>-1.376770</td>\n",
       "      <td>0.005316</td>\n",
       "      <td>128</td>\n",
       "      <td>-1.248565</td>\n",
       "      <td>-1.070927</td>\n",
       "      <td>0.077172</td>\n",
       "      <td>-0.538606</td>\n",
       "      <td>1</td>\n",
       "      <td>-0.590592</td>\n",
       "      <td>-0.702438</td>\n",
       "      <td>0.542985</td>\n",
       "      <td>1</td>\n",
       "      <td>-0.540759</td>\n",
       "      <td>-0.267056</td>\n",
       "      <td>4</td>\n",
       "      <td>0.010108</td>\n",
       "      <td>0</td>\n",
       "    </tr>\n",
       "    <tr>\n",
       "      <th>2</th>\n",
       "      <td>-0.222734</td>\n",
       "      <td>-0.932368</td>\n",
       "      <td>12</td>\n",
       "      <td>-0.796143</td>\n",
       "      <td>-0.979334</td>\n",
       "      <td>-0.787182</td>\n",
       "      <td>-1.376770</td>\n",
       "      <td>0.005316</td>\n",
       "      <td>128</td>\n",
       "      <td>-1.117360</td>\n",
       "      <td>-1.549281</td>\n",
       "      <td>-0.651416</td>\n",
       "      <td>-0.538606</td>\n",
       "      <td>1</td>\n",
       "      <td>-0.590592</td>\n",
       "      <td>-0.157033</td>\n",
       "      <td>0.552979</td>\n",
       "      <td>1</td>\n",
       "      <td>-0.540759</td>\n",
       "      <td>-0.209557</td>\n",
       "      <td>5</td>\n",
       "      <td>0.010108</td>\n",
       "      <td>0</td>\n",
       "    </tr>\n",
       "    <tr>\n",
       "      <th>3</th>\n",
       "      <td>0.214187</td>\n",
       "      <td>-0.932368</td>\n",
       "      <td>12</td>\n",
       "      <td>-0.796143</td>\n",
       "      <td>-0.979334</td>\n",
       "      <td>-0.787182</td>\n",
       "      <td>-1.376770</td>\n",
       "      <td>0.005316</td>\n",
       "      <td>128</td>\n",
       "      <td>-1.051758</td>\n",
       "      <td>-1.549281</td>\n",
       "      <td>0.077172</td>\n",
       "      <td>-0.538606</td>\n",
       "      <td>1</td>\n",
       "      <td>-0.590592</td>\n",
       "      <td>-1.453415</td>\n",
       "      <td>0.562973</td>\n",
       "      <td>1</td>\n",
       "      <td>-0.540759</td>\n",
       "      <td>-0.286724</td>\n",
       "      <td>1</td>\n",
       "      <td>0.010108</td>\n",
       "      <td>0</td>\n",
       "    </tr>\n",
       "    <tr>\n",
       "      <th>4</th>\n",
       "      <td>0.651107</td>\n",
       "      <td>-0.932368</td>\n",
       "      <td>12</td>\n",
       "      <td>-0.796143</td>\n",
       "      <td>-0.979334</td>\n",
       "      <td>-0.787182</td>\n",
       "      <td>-1.376770</td>\n",
       "      <td>0.005316</td>\n",
       "      <td>128</td>\n",
       "      <td>-0.920553</td>\n",
       "      <td>-1.549281</td>\n",
       "      <td>-0.214263</td>\n",
       "      <td>-0.538606</td>\n",
       "      <td>1</td>\n",
       "      <td>-0.590592</td>\n",
       "      <td>-0.967820</td>\n",
       "      <td>0.572967</td>\n",
       "      <td>1</td>\n",
       "      <td>-0.540759</td>\n",
       "      <td>-0.276465</td>\n",
       "      <td>5</td>\n",
       "      <td>0.010108</td>\n",
       "      <td>0</td>\n",
       "    </tr>\n",
       "    <tr>\n",
       "      <th>...</th>\n",
       "      <td>...</td>\n",
       "      <td>...</td>\n",
       "      <td>...</td>\n",
       "      <td>...</td>\n",
       "      <td>...</td>\n",
       "      <td>...</td>\n",
       "      <td>...</td>\n",
       "      <td>...</td>\n",
       "      <td>...</td>\n",
       "      <td>...</td>\n",
       "      <td>...</td>\n",
       "      <td>...</td>\n",
       "      <td>...</td>\n",
       "      <td>...</td>\n",
       "      <td>...</td>\n",
       "      <td>...</td>\n",
       "      <td>...</td>\n",
       "      <td>...</td>\n",
       "      <td>...</td>\n",
       "      <td>...</td>\n",
       "      <td>...</td>\n",
       "      <td>...</td>\n",
       "      <td>...</td>\n",
       "    </tr>\n",
       "    <tr>\n",
       "      <th>78309</th>\n",
       "      <td>1.524948</td>\n",
       "      <td>-0.369051</td>\n",
       "      <td>1</td>\n",
       "      <td>-0.772437</td>\n",
       "      <td>1.728625</td>\n",
       "      <td>1.126397</td>\n",
       "      <td>1.550005</td>\n",
       "      <td>0.455350</td>\n",
       "      <td>4912</td>\n",
       "      <td>0.719507</td>\n",
       "      <td>1.799198</td>\n",
       "      <td>1.103024</td>\n",
       "      <td>0.743442</td>\n",
       "      <td>0</td>\n",
       "      <td>1.726500</td>\n",
       "      <td>0.978280</td>\n",
       "      <td>-1.375827</td>\n",
       "      <td>2</td>\n",
       "      <td>-0.451970</td>\n",
       "      <td>-0.290023</td>\n",
       "      <td>0</td>\n",
       "      <td>0.010108</td>\n",
       "      <td>2</td>\n",
       "    </tr>\n",
       "    <tr>\n",
       "      <th>78310</th>\n",
       "      <td>-1.096574</td>\n",
       "      <td>-0.744596</td>\n",
       "      <td>9</td>\n",
       "      <td>-0.248947</td>\n",
       "      <td>-0.592483</td>\n",
       "      <td>0.169607</td>\n",
       "      <td>-0.926497</td>\n",
       "      <td>-0.894754</td>\n",
       "      <td>683</td>\n",
       "      <td>0.063483</td>\n",
       "      <td>-1.230378</td>\n",
       "      <td>0.110687</td>\n",
       "      <td>-0.795016</td>\n",
       "      <td>1</td>\n",
       "      <td>-0.848669</td>\n",
       "      <td>-0.598796</td>\n",
       "      <td>1.632311</td>\n",
       "      <td>1</td>\n",
       "      <td>-0.653567</td>\n",
       "      <td>-0.218700</td>\n",
       "      <td>4</td>\n",
       "      <td>0.010108</td>\n",
       "      <td>2</td>\n",
       "    </tr>\n",
       "    <tr>\n",
       "      <th>78311</th>\n",
       "      <td>0.651107</td>\n",
       "      <td>-0.744596</td>\n",
       "      <td>9</td>\n",
       "      <td>-0.248947</td>\n",
       "      <td>-0.592483</td>\n",
       "      <td>0.169607</td>\n",
       "      <td>-0.926497</td>\n",
       "      <td>-0.894754</td>\n",
       "      <td>683</td>\n",
       "      <td>0.325893</td>\n",
       "      <td>-1.230378</td>\n",
       "      <td>0.110687</td>\n",
       "      <td>-0.795016</td>\n",
       "      <td>1</td>\n",
       "      <td>-0.848669</td>\n",
       "      <td>1.788897</td>\n",
       "      <td>1.672286</td>\n",
       "      <td>1</td>\n",
       "      <td>-0.653567</td>\n",
       "      <td>-0.295216</td>\n",
       "      <td>0</td>\n",
       "      <td>0.010108</td>\n",
       "      <td>1</td>\n",
       "    </tr>\n",
       "    <tr>\n",
       "      <th>78312</th>\n",
       "      <td>1.088027</td>\n",
       "      <td>-0.744596</td>\n",
       "      <td>9</td>\n",
       "      <td>-0.248947</td>\n",
       "      <td>-0.592483</td>\n",
       "      <td>0.169607</td>\n",
       "      <td>-0.926497</td>\n",
       "      <td>-0.894754</td>\n",
       "      <td>683</td>\n",
       "      <td>-0.133324</td>\n",
       "      <td>-1.230378</td>\n",
       "      <td>0.110687</td>\n",
       "      <td>-0.795016</td>\n",
       "      <td>1</td>\n",
       "      <td>-0.848669</td>\n",
       "      <td>0.288262</td>\n",
       "      <td>1.682280</td>\n",
       "      <td>1</td>\n",
       "      <td>-0.653567</td>\n",
       "      <td>-0.184061</td>\n",
       "      <td>3</td>\n",
       "      <td>0.010108</td>\n",
       "      <td>2</td>\n",
       "    </tr>\n",
       "    <tr>\n",
       "      <th>78313</th>\n",
       "      <td>1.524948</td>\n",
       "      <td>-0.744596</td>\n",
       "      <td>9</td>\n",
       "      <td>-0.248947</td>\n",
       "      <td>-0.592483</td>\n",
       "      <td>0.169607</td>\n",
       "      <td>-0.926497</td>\n",
       "      <td>-0.894754</td>\n",
       "      <td>683</td>\n",
       "      <td>-0.264529</td>\n",
       "      <td>-1.230378</td>\n",
       "      <td>0.110687</td>\n",
       "      <td>-0.795016</td>\n",
       "      <td>1</td>\n",
       "      <td>-0.848669</td>\n",
       "      <td>0.397452</td>\n",
       "      <td>1.692274</td>\n",
       "      <td>1</td>\n",
       "      <td>-0.653567</td>\n",
       "      <td>-0.225325</td>\n",
       "      <td>1</td>\n",
       "      <td>0.010108</td>\n",
       "      <td>1</td>\n",
       "    </tr>\n",
       "  </tbody>\n",
       "</table>\n",
       "<p>78314 rows × 23 columns</p>\n",
       "</div>"
      ],
      "text/plain": [
       "          Month       Age  Occupation  Annual_Income  Num_Bank_Accounts  \\\n",
       "0     -1.533495 -0.932368          12      -0.796143          -0.979334   \n",
       "1     -0.659654 -0.932368          12      -0.796143          -0.979334   \n",
       "2     -0.222734 -0.932368          12      -0.796143          -0.979334   \n",
       "3      0.214187 -0.932368          12      -0.796143          -0.979334   \n",
       "4      0.651107 -0.932368          12      -0.796143          -0.979334   \n",
       "...         ...       ...         ...            ...                ...   \n",
       "78309  1.524948 -0.369051           1      -0.772437           1.728625   \n",
       "78310 -1.096574 -0.744596           9      -0.248947          -0.592483   \n",
       "78311  0.651107 -0.744596           9      -0.248947          -0.592483   \n",
       "78312  1.088027 -0.744596           9      -0.248947          -0.592483   \n",
       "78313  1.524948 -0.744596           9      -0.248947          -0.592483   \n",
       "\n",
       "       Num_Credit_Card  Interest_Rate  Num_of_Loan  Type_of_Loan  \\\n",
       "0            -0.787182      -1.376770     0.005316           128   \n",
       "1            -0.787182      -1.376770     0.005316           128   \n",
       "2            -0.787182      -1.376770     0.005316           128   \n",
       "3            -0.787182      -1.376770     0.005316           128   \n",
       "4            -0.787182      -1.376770     0.005316           128   \n",
       "...                ...            ...          ...           ...   \n",
       "78309         1.126397       1.550005     0.455350          4912   \n",
       "78310         0.169607      -0.926497    -0.894754           683   \n",
       "78311         0.169607      -0.926497    -0.894754           683   \n",
       "78312         0.169607      -0.926497    -0.894754           683   \n",
       "78313         0.169607      -0.926497    -0.894754           683   \n",
       "\n",
       "       Delay_from_due_date  Num_of_Delayed_Payment  Changed_Credit_Limit  \\\n",
       "0                -1.248565               -1.070927              0.077172   \n",
       "1                -1.248565               -1.070927              0.077172   \n",
       "2                -1.117360               -1.549281             -0.651416   \n",
       "3                -1.051758               -1.549281              0.077172   \n",
       "4                -0.920553               -1.549281             -0.214263   \n",
       "...                    ...                     ...                   ...   \n",
       "78309             0.719507                1.799198              1.103024   \n",
       "78310             0.063483               -1.230378              0.110687   \n",
       "78311             0.325893               -1.230378              0.110687   \n",
       "78312            -0.133324               -1.230378              0.110687   \n",
       "78313            -0.264529               -1.230378              0.110687   \n",
       "\n",
       "       Num_Credit_Inquiries  Credit_Mix  Outstanding_Debt  \\\n",
       "0                 -0.538606           1         -0.590592   \n",
       "1                 -0.538606           1         -0.590592   \n",
       "2                 -0.538606           1         -0.590592   \n",
       "3                 -0.538606           1         -0.590592   \n",
       "4                 -0.538606           1         -0.590592   \n",
       "...                     ...         ...               ...   \n",
       "78309              0.743442           0          1.726500   \n",
       "78310             -0.795016           1         -0.848669   \n",
       "78311             -0.795016           1         -0.848669   \n",
       "78312             -0.795016           1         -0.848669   \n",
       "78313             -0.795016           1         -0.848669   \n",
       "\n",
       "       Credit_Utilization_Ratio  Credit_History_Age  Payment_of_Min_Amount  \\\n",
       "0                     -1.054430            0.522998                      1   \n",
       "1                     -0.702438            0.542985                      1   \n",
       "2                     -0.157033            0.552979                      1   \n",
       "3                     -1.453415            0.562973                      1   \n",
       "4                     -0.967820            0.572967                      1   \n",
       "...                         ...                 ...                    ...   \n",
       "78309                  0.978280           -1.375827                      2   \n",
       "78310                 -0.598796            1.632311                      1   \n",
       "78311                  1.788897            1.672286                      1   \n",
       "78312                  0.288262            1.682280                      1   \n",
       "78313                  0.397452            1.692274                      1   \n",
       "\n",
       "       Total_EMI_per_month  Amount_invested_monthly  Payment_Behaviour  \\\n",
       "0                -0.540759                -0.267683                  2   \n",
       "1                -0.540759                -0.267056                  4   \n",
       "2                -0.540759                -0.209557                  5   \n",
       "3                -0.540759                -0.286724                  1   \n",
       "4                -0.540759                -0.276465                  5   \n",
       "...                    ...                      ...                ...   \n",
       "78309            -0.451970                -0.290023                  0   \n",
       "78310            -0.653567                -0.218700                  4   \n",
       "78311            -0.653567                -0.295216                  0   \n",
       "78312            -0.653567                -0.184061                  3   \n",
       "78313            -0.653567                -0.225325                  1   \n",
       "\n",
       "       Monthly_Balance  Credit_Score  \n",
       "0             0.010108             0  \n",
       "1             0.010108             0  \n",
       "2             0.010108             0  \n",
       "3             0.010108             0  \n",
       "4             0.010108             0  \n",
       "...                ...           ...  \n",
       "78309         0.010108             2  \n",
       "78310         0.010108             2  \n",
       "78311         0.010108             1  \n",
       "78312         0.010108             2  \n",
       "78313         0.010108             1  \n",
       "\n",
       "[78314 rows x 23 columns]"
      ]
     },
     "execution_count": 79,
     "metadata": {},
     "output_type": "execute_result"
    }
   ],
   "source": [
    "df"
   ]
  },
  {
   "cell_type": "code",
   "execution_count": 80,
   "id": "8dbcaf7c",
   "metadata": {},
   "outputs": [],
   "source": [
    "X = df.drop('Credit_Score', axis=1)\n",
    "y = df['Credit_Score']"
   ]
  },
  {
   "cell_type": "code",
   "execution_count": 81,
   "id": "60ced265",
   "metadata": {},
   "outputs": [],
   "source": [
    "X_train, X_test, y_train, y_test = train_test_split(X, y, test_size=0.3, random_state=0)\n"
   ]
  },
  {
   "cell_type": "code",
   "execution_count": 82,
   "id": "44cc3163",
   "metadata": {},
   "outputs": [],
   "source": [
    "rf = RandomForestClassifier(n_estimators=100, random_state=0)\n"
   ]
  },
  {
   "cell_type": "code",
   "execution_count": 83,
   "id": "ec35bf9e",
   "metadata": {},
   "outputs": [
    {
     "data": {
      "text/html": [
       "<style>#sk-container-id-6 {color: black;background-color: white;}#sk-container-id-6 pre{padding: 0;}#sk-container-id-6 div.sk-toggleable {background-color: white;}#sk-container-id-6 label.sk-toggleable__label {cursor: pointer;display: block;width: 100%;margin-bottom: 0;padding: 0.3em;box-sizing: border-box;text-align: center;}#sk-container-id-6 label.sk-toggleable__label-arrow:before {content: \"▸\";float: left;margin-right: 0.25em;color: #696969;}#sk-container-id-6 label.sk-toggleable__label-arrow:hover:before {color: black;}#sk-container-id-6 div.sk-estimator:hover label.sk-toggleable__label-arrow:before {color: black;}#sk-container-id-6 div.sk-toggleable__content {max-height: 0;max-width: 0;overflow: hidden;text-align: left;background-color: #f0f8ff;}#sk-container-id-6 div.sk-toggleable__content pre {margin: 0.2em;color: black;border-radius: 0.25em;background-color: #f0f8ff;}#sk-container-id-6 input.sk-toggleable__control:checked~div.sk-toggleable__content {max-height: 200px;max-width: 100%;overflow: auto;}#sk-container-id-6 input.sk-toggleable__control:checked~label.sk-toggleable__label-arrow:before {content: \"▾\";}#sk-container-id-6 div.sk-estimator input.sk-toggleable__control:checked~label.sk-toggleable__label {background-color: #d4ebff;}#sk-container-id-6 div.sk-label input.sk-toggleable__control:checked~label.sk-toggleable__label {background-color: #d4ebff;}#sk-container-id-6 input.sk-hidden--visually {border: 0;clip: rect(1px 1px 1px 1px);clip: rect(1px, 1px, 1px, 1px);height: 1px;margin: -1px;overflow: hidden;padding: 0;position: absolute;width: 1px;}#sk-container-id-6 div.sk-estimator {font-family: monospace;background-color: #f0f8ff;border: 1px dotted black;border-radius: 0.25em;box-sizing: border-box;margin-bottom: 0.5em;}#sk-container-id-6 div.sk-estimator:hover {background-color: #d4ebff;}#sk-container-id-6 div.sk-parallel-item::after {content: \"\";width: 100%;border-bottom: 1px solid gray;flex-grow: 1;}#sk-container-id-6 div.sk-label:hover label.sk-toggleable__label {background-color: #d4ebff;}#sk-container-id-6 div.sk-serial::before {content: \"\";position: absolute;border-left: 1px solid gray;box-sizing: border-box;top: 0;bottom: 0;left: 50%;z-index: 0;}#sk-container-id-6 div.sk-serial {display: flex;flex-direction: column;align-items: center;background-color: white;padding-right: 0.2em;padding-left: 0.2em;position: relative;}#sk-container-id-6 div.sk-item {position: relative;z-index: 1;}#sk-container-id-6 div.sk-parallel {display: flex;align-items: stretch;justify-content: center;background-color: white;position: relative;}#sk-container-id-6 div.sk-item::before, #sk-container-id-6 div.sk-parallel-item::before {content: \"\";position: absolute;border-left: 1px solid gray;box-sizing: border-box;top: 0;bottom: 0;left: 50%;z-index: -1;}#sk-container-id-6 div.sk-parallel-item {display: flex;flex-direction: column;z-index: 1;position: relative;background-color: white;}#sk-container-id-6 div.sk-parallel-item:first-child::after {align-self: flex-end;width: 50%;}#sk-container-id-6 div.sk-parallel-item:last-child::after {align-self: flex-start;width: 50%;}#sk-container-id-6 div.sk-parallel-item:only-child::after {width: 0;}#sk-container-id-6 div.sk-dashed-wrapped {border: 1px dashed gray;margin: 0 0.4em 0.5em 0.4em;box-sizing: border-box;padding-bottom: 0.4em;background-color: white;}#sk-container-id-6 div.sk-label label {font-family: monospace;font-weight: bold;display: inline-block;line-height: 1.2em;}#sk-container-id-6 div.sk-label-container {text-align: center;}#sk-container-id-6 div.sk-container {/* jupyter's `normalize.less` sets `[hidden] { display: none; }` but bootstrap.min.css set `[hidden] { display: none !important; }` so we also need the `!important` here to be able to override the default hidden behavior on the sphinx rendered scikit-learn.org. See: https://github.com/scikit-learn/scikit-learn/issues/21755 */display: inline-block !important;position: relative;}#sk-container-id-6 div.sk-text-repr-fallback {display: none;}</style><div id=\"sk-container-id-6\" class=\"sk-top-container\"><div class=\"sk-text-repr-fallback\"><pre>RandomForestClassifier(random_state=0)</pre><b>In a Jupyter environment, please rerun this cell to show the HTML representation or trust the notebook. <br />On GitHub, the HTML representation is unable to render, please try loading this page with nbviewer.org.</b></div><div class=\"sk-container\" hidden><div class=\"sk-item\"><div class=\"sk-estimator sk-toggleable\"><input class=\"sk-toggleable__control sk-hidden--visually\" id=\"sk-estimator-id-6\" type=\"checkbox\" checked><label for=\"sk-estimator-id-6\" class=\"sk-toggleable__label sk-toggleable__label-arrow\">RandomForestClassifier</label><div class=\"sk-toggleable__content\"><pre>RandomForestClassifier(random_state=0)</pre></div></div></div></div></div>"
      ],
      "text/plain": [
       "RandomForestClassifier(random_state=0)"
      ]
     },
     "execution_count": 83,
     "metadata": {},
     "output_type": "execute_result"
    }
   ],
   "source": [
    "rf.fit(X_train, y_train)"
   ]
  },
  {
   "cell_type": "code",
   "execution_count": 84,
   "id": "b8d0ae89",
   "metadata": {},
   "outputs": [],
   "source": [
    "# Make predictions on the test data\n",
    "y_pred = rf.predict(X_test)\n"
   ]
  },
  {
   "attachments": {
    "image.png": {
     "image/png": "[encoded data removed]"
    }
   },
   "cell_type": "markdown",
   "id": "d3ef1537",
   "metadata": {},
   "source": [
    "Before Dropping \n",
    "![image.png](attachment:image.png)"
   ]
  },
  {
   "cell_type": "code",
   "execution_count": 85,
   "id": "9a71eb76",
   "metadata": {},
   "outputs": [
    {
     "name": "stdout",
     "output_type": "stream",
     "text": [
      "              precision    recall  f1-score   support\n",
      "\n",
      "           0       0.79      0.79      0.79      3833\n",
      "           1       0.80      0.85      0.83      7369\n",
      "           2       0.84      0.82      0.83     12293\n",
      "\n",
      "    accuracy                           0.82     23495\n",
      "   macro avg       0.81      0.82      0.82     23495\n",
      "weighted avg       0.82      0.82      0.82     23495\n",
      "\n"
     ]
    }
   ],
   "source": [
    "report = classification_report(y_test, y_pred)\n",
    "print(report )"
   ]
  },
  {
   "cell_type": "code",
   "execution_count": 86,
   "id": "03a52a32",
   "metadata": {},
   "outputs": [
    {
     "data": {
      "image/png": "[encoded data removed]",
      "text/plain": [
       "<Figure size 640x480 with 2 Axes>"
      ]
     },
     "metadata": {},
     "output_type": "display_data"
    }
   ],
   "source": [
    "# Assuming y_test contains the true labels and y_pred contains the predicted labels\n",
    "cm = confusion_matrix(y_test, y_pred)\n",
    "\n",
    "# Plot the confusion matrix as a heatmap\n",
    "sns.heatmap(cm, annot=True, cmap='Blues', fmt='g')\n",
    "plt.xlabel('Predicted')\n",
    "plt.ylabel('True')\n",
    "plt.show()"
   ]
  },
  {
   "cell_type": "code",
   "execution_count": 87,
   "id": "72f42635",
   "metadata": {},
   "outputs": [],
   "source": [
    "# So lets try to improve the accuracy by trying to balance the datasets "
   ]
  },
  {
   "cell_type": "code",
   "execution_count": 88,
   "id": "f2d88cae",
   "metadata": {},
   "outputs": [],
   "source": [
    "df_copy = df.copy() "
   ]
  },
  {
   "cell_type": "code",
   "execution_count": 89,
   "id": "773c51da",
   "metadata": {},
   "outputs": [
    {
     "data": {
      "text/plain": [
       "2    41148\n",
       "1    24469\n",
       "0    12697\n",
       "Name: Credit_Score, dtype: int64"
      ]
     },
     "execution_count": 89,
     "metadata": {},
     "output_type": "execute_result"
    }
   ],
   "source": [
    "df_copy['Credit_Score'].value_counts() "
   ]
  },
  {
   "cell_type": "code",
   "execution_count": 90,
   "id": "246f7e17",
   "metadata": {},
   "outputs": [],
   "source": [
    "from sklearn.utils import resample\n",
    "#create two different dataframe of majority and minority class \n",
    "df_majority = df_copy[(df_copy['Credit_Score']==2)] \n",
    "df_minority = df_copy[(df_copy['Credit_Score']==1)] \n",
    "df_minority2 = df_copy[(df_copy['Credit_Score']==0)] \n",
    "# upsample minority class\n",
    "df_minority_upsampled = resample(df_minority, \n",
    "                                 replace=True,    # sample with replacement\n",
    "                                 n_samples= 41808, # to match majority class\n",
    "                                 random_state=0)  # reproducible results\n",
    "df_minority_upsampled2 = resample(df_minority2, \n",
    "                                 replace=True,    # sample with replacement\n",
    "                                 n_samples= 41808, # to match majority class\n",
    "                                 random_state=0)  # reproducible results\n",
    "# Combine majority class with upsampled minority class\n",
    "df_upsampled = pd.concat([df_minority_upsampled, df_minority_upsampled2, df_majority])"
   ]
  },
  {
   "cell_type": "code",
   "execution_count": 91,
   "id": "b78c6c02",
   "metadata": {},
   "outputs": [],
   "source": [
    "df_upsampled = df_upsampled.drop(df.columns[0], axis=1)"
   ]
  },
  {
   "cell_type": "code",
   "execution_count": 92,
   "id": "c849d6c4",
   "metadata": {},
   "outputs": [],
   "source": [
    "df_upsampled.to_csv('../cleaned_data/upsampled_final_df.csv')"
   ]
  },
  {
   "cell_type": "code",
   "execution_count": 93,
   "id": "02607c9d",
   "metadata": {},
   "outputs": [
    {
     "data": {
      "text/plain": [
       "1    41808\n",
       "0    41808\n",
       "2    41148\n",
       "Name: Credit_Score, dtype: int64"
      ]
     },
     "execution_count": 93,
     "metadata": {},
     "output_type": "execute_result"
    },
    {
     "data": {
      "image/png": "[encoded data removed]",
      "text/plain": [
       "<Figure size 640x480 with 1 Axes>"
      ]
     },
     "metadata": {},
     "output_type": "display_data"
    }
   ],
   "source": [
    "#Counting 1 and 0 Value in Response column\n",
    "sns.countplot(x = 'Credit_Score', data = df_upsampled)\n",
    "df_upsampled['Credit_Score'].value_counts()"
   ]
  },
  {
   "cell_type": "code",
   "execution_count": 94,
   "id": "d5ce6805",
   "metadata": {},
   "outputs": [],
   "source": [
    "df2= df_upsampled.copy()"
   ]
  },
  {
   "cell_type": "code",
   "execution_count": 95,
   "id": "5d6f3b15",
   "metadata": {},
   "outputs": [],
   "source": [
    "X = df2.drop('Credit_Score', axis=1)\n",
    "y = df2['Credit_Score']"
   ]
  },
  {
   "cell_type": "code",
   "execution_count": 96,
   "id": "fce3ac1f",
   "metadata": {},
   "outputs": [],
   "source": [
    "X_train, X_test, y_train, y_test = train_test_split(X, y, test_size=0.3, random_state=0)\n"
   ]
  },
  {
   "cell_type": "code",
   "execution_count": 97,
   "id": "e21bbd56",
   "metadata": {},
   "outputs": [],
   "source": [
    "rf = RandomForestClassifier(n_estimators=100, random_state=0)\n"
   ]
  },
  {
   "cell_type": "code",
   "execution_count": 98,
   "id": "bf171026",
   "metadata": {},
   "outputs": [
    {
     "data": {
      "text/html": [
       "<style>#sk-container-id-7 {color: black;background-color: white;}#sk-container-id-7 pre{padding: 0;}#sk-container-id-7 div.sk-toggleable {background-color: white;}#sk-container-id-7 label.sk-toggleable__label {cursor: pointer;display: block;width: 100%;margin-bottom: 0;padding: 0.3em;box-sizing: border-box;text-align: center;}#sk-container-id-7 label.sk-toggleable__label-arrow:before {content: \"▸\";float: left;margin-right: 0.25em;color: #696969;}#sk-container-id-7 label.sk-toggleable__label-arrow:hover:before {color: black;}#sk-container-id-7 div.sk-estimator:hover label.sk-toggleable__label-arrow:before {color: black;}#sk-container-id-7 div.sk-toggleable__content {max-height: 0;max-width: 0;overflow: hidden;text-align: left;background-color: #f0f8ff;}#sk-container-id-7 div.sk-toggleable__content pre {margin: 0.2em;color: black;border-radius: 0.25em;background-color: #f0f8ff;}#sk-container-id-7 input.sk-toggleable__control:checked~div.sk-toggleable__content {max-height: 200px;max-width: 100%;overflow: auto;}#sk-container-id-7 input.sk-toggleable__control:checked~label.sk-toggleable__label-arrow:before {content: \"▾\";}#sk-container-id-7 div.sk-estimator input.sk-toggleable__control:checked~label.sk-toggleable__label {background-color: #d4ebff;}#sk-container-id-7 div.sk-label input.sk-toggleable__control:checked~label.sk-toggleable__label {background-color: #d4ebff;}#sk-container-id-7 input.sk-hidden--visually {border: 0;clip: rect(1px 1px 1px 1px);clip: rect(1px, 1px, 1px, 1px);height: 1px;margin: -1px;overflow: hidden;padding: 0;position: absolute;width: 1px;}#sk-container-id-7 div.sk-estimator {font-family: monospace;background-color: #f0f8ff;border: 1px dotted black;border-radius: 0.25em;box-sizing: border-box;margin-bottom: 0.5em;}#sk-container-id-7 div.sk-estimator:hover {background-color: #d4ebff;}#sk-container-id-7 div.sk-parallel-item::after {content: \"\";width: 100%;border-bottom: 1px solid gray;flex-grow: 1;}#sk-container-id-7 div.sk-label:hover label.sk-toggleable__label {background-color: #d4ebff;}#sk-container-id-7 div.sk-serial::before {content: \"\";position: absolute;border-left: 1px solid gray;box-sizing: border-box;top: 0;bottom: 0;left: 50%;z-index: 0;}#sk-container-id-7 div.sk-serial {display: flex;flex-direction: column;align-items: center;background-color: white;padding-right: 0.2em;padding-left: 0.2em;position: relative;}#sk-container-id-7 div.sk-item {position: relative;z-index: 1;}#sk-container-id-7 div.sk-parallel {display: flex;align-items: stretch;justify-content: center;background-color: white;position: relative;}#sk-container-id-7 div.sk-item::before, #sk-container-id-7 div.sk-parallel-item::before {content: \"\";position: absolute;border-left: 1px solid gray;box-sizing: border-box;top: 0;bottom: 0;left: 50%;z-index: -1;}#sk-container-id-7 div.sk-parallel-item {display: flex;flex-direction: column;z-index: 1;position: relative;background-color: white;}#sk-container-id-7 div.sk-parallel-item:first-child::after {align-self: flex-end;width: 50%;}#sk-container-id-7 div.sk-parallel-item:last-child::after {align-self: flex-start;width: 50%;}#sk-container-id-7 div.sk-parallel-item:only-child::after {width: 0;}#sk-container-id-7 div.sk-dashed-wrapped {border: 1px dashed gray;margin: 0 0.4em 0.5em 0.4em;box-sizing: border-box;padding-bottom: 0.4em;background-color: white;}#sk-container-id-7 div.sk-label label {font-family: monospace;font-weight: bold;display: inline-block;line-height: 1.2em;}#sk-container-id-7 div.sk-label-container {text-align: center;}#sk-container-id-7 div.sk-container {/* jupyter's `normalize.less` sets `[hidden] { display: none; }` but bootstrap.min.css set `[hidden] { display: none !important; }` so we also need the `!important` here to be able to override the default hidden behavior on the sphinx rendered scikit-learn.org. See: https://github.com/scikit-learn/scikit-learn/issues/21755 */display: inline-block !important;position: relative;}#sk-container-id-7 div.sk-text-repr-fallback {display: none;}</style><div id=\"sk-container-id-7\" class=\"sk-top-container\"><div class=\"sk-text-repr-fallback\"><pre>RandomForestClassifier(random_state=0)</pre><b>In a Jupyter environment, please rerun this cell to show the HTML representation or trust the notebook. <br />On GitHub, the HTML representation is unable to render, please try loading this page with nbviewer.org.</b></div><div class=\"sk-container\" hidden><div class=\"sk-item\"><div class=\"sk-estimator sk-toggleable\"><input class=\"sk-toggleable__control sk-hidden--visually\" id=\"sk-estimator-id-7\" type=\"checkbox\" checked><label for=\"sk-estimator-id-7\" class=\"sk-toggleable__label sk-toggleable__label-arrow\">RandomForestClassifier</label><div class=\"sk-toggleable__content\"><pre>RandomForestClassifier(random_state=0)</pre></div></div></div></div></div>"
      ],
      "text/plain": [
       "RandomForestClassifier(random_state=0)"
      ]
     },
     "execution_count": 98,
     "metadata": {},
     "output_type": "execute_result"
    }
   ],
   "source": [
    "rf.fit(X_train, y_train)\n",
    "\n",
    "\n"
   ]
  },
  {
   "cell_type": "code",
   "execution_count": 99,
   "id": "0e2632d0",
   "metadata": {},
   "outputs": [],
   "source": [
    "# Make predictions on the test data\n",
    "y_pred = rf.predict(X_test)\n"
   ]
  },
  {
   "attachments": {
    "image.png": {
     "image/png": "[encoded data removed]"
    }
   },
   "cell_type": "markdown",
   "id": "f701e1af",
   "metadata": {},
   "source": [
    "Before dropping highly correlated \n",
    "![image.png](attachment:image.png)"
   ]
  },
  {
   "cell_type": "code",
   "execution_count": 100,
   "id": "45314c24",
   "metadata": {},
   "outputs": [
    {
     "name": "stdout",
     "output_type": "stream",
     "text": [
      "              precision    recall  f1-score   support\n",
      "\n",
      "           0       0.92      0.99      0.95     12637\n",
      "           1       0.87      0.96      0.92     12455\n",
      "           2       0.94      0.77      0.85     12338\n",
      "\n",
      "    accuracy                           0.91     37430\n",
      "   macro avg       0.91      0.91      0.90     37430\n",
      "weighted avg       0.91      0.91      0.91     37430\n",
      "\n"
     ]
    }
   ],
   "source": [
    "report = classification_report(y_test, y_pred)\n",
    "print(report )"
   ]
  },
  {
   "cell_type": "code",
   "execution_count": 101,
   "id": "13cd0fb6",
   "metadata": {},
   "outputs": [
    {
     "data": {
      "image/png": "[encoded data removed]",
      "text/plain": [
       "<Figure size 640x480 with 2 Axes>"
      ]
     },
     "metadata": {},
     "output_type": "display_data"
    }
   ],
   "source": [
    "# Assuming y_true contains the true labels and y_pred contains the predicted labels\n",
    "cm = confusion_matrix(y_test, y_pred)\n",
    "\n",
    "# Plot the confusion matrix as a heatmap\n",
    "sns.heatmap(cm, annot=True, cmap='Blues', fmt='g')\n",
    "plt.xlabel('Predicted')\n",
    "plt.ylabel('True')\n",
    "plt.show()"
   ]
  },
  {
   "cell_type": "markdown",
   "id": "efffcdaa",
   "metadata": {},
   "source": [
    "Hence we were able to increase the Accuracy of the Random Forest Classifier from 82% to 91% . Also the Overall classification report is also improved. "
   ]
  },
  {
   "cell_type": "code",
   "execution_count": 102,
   "id": "07d6e2de",
   "metadata": {},
   "outputs": [],
   "source": [
    "# From the Hyperparamter tunining the best parameter was found "
   ]
  },
  {
   "cell_type": "code",
   "execution_count": 103,
   "id": "d2570568",
   "metadata": {},
   "outputs": [],
   "source": [
    "# best_param = {'n_estimators': 200, 'min_samples_split': 2, 'min_samples_leaf': 1, 'max_features': 'sqrt', 'max_depth': 40}"
   ]
  },
  {
   "cell_type": "code",
   "execution_count": 104,
   "id": "8eaa2736",
   "metadata": {},
   "outputs": [],
   "source": [
    "best_param= {'n_estimators': 250, 'min_samples_split': 2, 'min_samples_leaf': 1, 'max_features': 'sqrt', 'max_depth': None}\n"
   ]
  },
  {
   "cell_type": "code",
   "execution_count": 105,
   "id": "cac9d16e",
   "metadata": {},
   "outputs": [],
   "source": [
    "best_model =  RandomForestClassifier(**best_param)"
   ]
  },
  {
   "cell_type": "code",
   "execution_count": 106,
   "id": "369239e7",
   "metadata": {},
   "outputs": [
    {
     "data": {
      "text/html": [
       "<style>#sk-container-id-8 {color: black;background-color: white;}#sk-container-id-8 pre{padding: 0;}#sk-container-id-8 div.sk-toggleable {background-color: white;}#sk-container-id-8 label.sk-toggleable__label {cursor: pointer;display: block;width: 100%;margin-bottom: 0;padding: 0.3em;box-sizing: border-box;text-align: center;}#sk-container-id-8 label.sk-toggleable__label-arrow:before {content: \"▸\";float: left;margin-right: 0.25em;color: #696969;}#sk-container-id-8 label.sk-toggleable__label-arrow:hover:before {color: black;}#sk-container-id-8 div.sk-estimator:hover label.sk-toggleable__label-arrow:before {color: black;}#sk-container-id-8 div.sk-toggleable__content {max-height: 0;max-width: 0;overflow: hidden;text-align: left;background-color: #f0f8ff;}#sk-container-id-8 div.sk-toggleable__content pre {margin: 0.2em;color: black;border-radius: 0.25em;background-color: #f0f8ff;}#sk-container-id-8 input.sk-toggleable__control:checked~div.sk-toggleable__content {max-height: 200px;max-width: 100%;overflow: auto;}#sk-container-id-8 input.sk-toggleable__control:checked~label.sk-toggleable__label-arrow:before {content: \"▾\";}#sk-container-id-8 div.sk-estimator input.sk-toggleable__control:checked~label.sk-toggleable__label {background-color: #d4ebff;}#sk-container-id-8 div.sk-label input.sk-toggleable__control:checked~label.sk-toggleable__label {background-color: #d4ebff;}#sk-container-id-8 input.sk-hidden--visually {border: 0;clip: rect(1px 1px 1px 1px);clip: rect(1px, 1px, 1px, 1px);height: 1px;margin: -1px;overflow: hidden;padding: 0;position: absolute;width: 1px;}#sk-container-id-8 div.sk-estimator {font-family: monospace;background-color: #f0f8ff;border: 1px dotted black;border-radius: 0.25em;box-sizing: border-box;margin-bottom: 0.5em;}#sk-container-id-8 div.sk-estimator:hover {background-color: #d4ebff;}#sk-container-id-8 div.sk-parallel-item::after {content: \"\";width: 100%;border-bottom: 1px solid gray;flex-grow: 1;}#sk-container-id-8 div.sk-label:hover label.sk-toggleable__label {background-color: #d4ebff;}#sk-container-id-8 div.sk-serial::before {content: \"\";position: absolute;border-left: 1px solid gray;box-sizing: border-box;top: 0;bottom: 0;left: 50%;z-index: 0;}#sk-container-id-8 div.sk-serial {display: flex;flex-direction: column;align-items: center;background-color: white;padding-right: 0.2em;padding-left: 0.2em;position: relative;}#sk-container-id-8 div.sk-item {position: relative;z-index: 1;}#sk-container-id-8 div.sk-parallel {display: flex;align-items: stretch;justify-content: center;background-color: white;position: relative;}#sk-container-id-8 div.sk-item::before, #sk-container-id-8 div.sk-parallel-item::before {content: \"\";position: absolute;border-left: 1px solid gray;box-sizing: border-box;top: 0;bottom: 0;left: 50%;z-index: -1;}#sk-container-id-8 div.sk-parallel-item {display: flex;flex-direction: column;z-index: 1;position: relative;background-color: white;}#sk-container-id-8 div.sk-parallel-item:first-child::after {align-self: flex-end;width: 50%;}#sk-container-id-8 div.sk-parallel-item:last-child::after {align-self: flex-start;width: 50%;}#sk-container-id-8 div.sk-parallel-item:only-child::after {width: 0;}#sk-container-id-8 div.sk-dashed-wrapped {border: 1px dashed gray;margin: 0 0.4em 0.5em 0.4em;box-sizing: border-box;padding-bottom: 0.4em;background-color: white;}#sk-container-id-8 div.sk-label label {font-family: monospace;font-weight: bold;display: inline-block;line-height: 1.2em;}#sk-container-id-8 div.sk-label-container {text-align: center;}#sk-container-id-8 div.sk-container {/* jupyter's `normalize.less` sets `[hidden] { display: none; }` but bootstrap.min.css set `[hidden] { display: none !important; }` so we also need the `!important` here to be able to override the default hidden behavior on the sphinx rendered scikit-learn.org. See: https://github.com/scikit-learn/scikit-learn/issues/21755 */display: inline-block !important;position: relative;}#sk-container-id-8 div.sk-text-repr-fallback {display: none;}</style><div id=\"sk-container-id-8\" class=\"sk-top-container\"><div class=\"sk-text-repr-fallback\"><pre>RandomForestClassifier(n_estimators=250)</pre><b>In a Jupyter environment, please rerun this cell to show the HTML representation or trust the notebook. <br />On GitHub, the HTML representation is unable to render, please try loading this page with nbviewer.org.</b></div><div class=\"sk-container\" hidden><div class=\"sk-item\"><div class=\"sk-estimator sk-toggleable\"><input class=\"sk-toggleable__control sk-hidden--visually\" id=\"sk-estimator-id-8\" type=\"checkbox\" checked><label for=\"sk-estimator-id-8\" class=\"sk-toggleable__label sk-toggleable__label-arrow\">RandomForestClassifier</label><div class=\"sk-toggleable__content\"><pre>RandomForestClassifier(n_estimators=250)</pre></div></div></div></div></div>"
      ],
      "text/plain": [
       "RandomForestClassifier(n_estimators=250)"
      ]
     },
     "execution_count": 106,
     "metadata": {},
     "output_type": "execute_result"
    }
   ],
   "source": [
    "best_model.fit(X_train, y_train)"
   ]
  },
  {
   "cell_type": "markdown",
   "id": "00059ac5",
   "metadata": {},
   "source": [
    "Accuracy: 0.9131232061230998\n"
   ]
  },
  {
   "cell_type": "code",
   "execution_count": 107,
   "id": "263830ae",
   "metadata": {},
   "outputs": [
    {
     "name": "stdout",
     "output_type": "stream",
     "text": [
      "Accuracy: 0.908282126636388\n"
     ]
    }
   ],
   "source": [
    "# Make predictions on the test data\n",
    "y_pred = best_model.predict(X_test)\n",
    "\n",
    "# Calculate the accuracy score of the model\n",
    "accuracy = accuracy_score(y_test, y_pred)\n",
    "print('Accuracy:', accuracy)"
   ]
  },
  {
   "cell_type": "code",
   "execution_count": 108,
   "id": "19029584",
   "metadata": {
    "scrolled": true
   },
   "outputs": [
    {
     "name": "stdout",
     "output_type": "stream",
     "text": [
      "              precision    recall  f1-score   support\n",
      "\n",
      "           0       0.92      0.99      0.95     12637\n",
      "           1       0.87      0.96      0.92     12455\n",
      "           2       0.94      0.77      0.85     12338\n",
      "\n",
      "    accuracy                           0.91     37430\n",
      "   macro avg       0.91      0.91      0.91     37430\n",
      "weighted avg       0.91      0.91      0.91     37430\n",
      "\n"
     ]
    }
   ],
   "source": [
    "report = classification_report(y_test, y_pred)\n",
    "print(report )"
   ]
  },
  {
   "cell_type": "code",
   "execution_count": 109,
   "id": "7cfd51b9",
   "metadata": {},
   "outputs": [
    {
     "data": {
      "image/png": "[encoded data removed]",
      "text/plain": [
       "<Figure size 640x480 with 2 Axes>"
      ]
     },
     "metadata": {},
     "output_type": "display_data"
    }
   ],
   "source": [
    "# Assuming y_true contains the true labels and y_pred contains the predicted labels\n",
    "cm = confusion_matrix(y_test, y_pred)\n",
    "\n",
    "# Plot the confusion matrix as a heatmap\n",
    "sns.heatmap(cm, annot=True, cmap='Blues', fmt='g')\n",
    "plt.xlabel('Predicted')\n",
    "plt.ylabel('True')\n",
    "plt.show()"
   ]
  },
  {
   "cell_type": "code",
   "execution_count": 110,
   "id": "8ffebd4c",
   "metadata": {},
   "outputs": [],
   "source": [
    "import pickle\n",
    "\n",
    "# Define the path and filename for the .pkl file\n",
    "filename = '../models/rf_model.pkl'\n",
    "\n",
    "# Open a file in binary mode and save the model using the pickle module\n",
    "with open(filename, 'wb') as file:\n",
    "    pickle.dump(best_model, file)"
   ]
  },
  {
   "cell_type": "code",
   "execution_count": null,
   "id": "1e92784a",
   "metadata": {},
   "outputs": [],
   "source": []
  },
  {
   "cell_type": "code",
   "execution_count": null,
   "id": "a532d915",
   "metadata": {},
   "outputs": [],
   "source": []
  }
 ],
 "metadata": {
  "kernelspec": {
   "display_name": "Python 3 (ipykernel)",
   "language": "python",
   "name": "python3"
  },
  "language_info": {
   "codemirror_mode": {
    "name": "ipython",
    "version": 3
   },
   "file_extension": ".py",
   "mimetype": "text/x-python",
   "name": "python",
   "nbconvert_exporter": "python",
   "pygments_lexer": "ipython3",
   "version": "3.10.9"
  }
 },
 "nbformat": 4,
 "nbformat_minor": 5
}
